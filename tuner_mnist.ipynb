{
  "nbformat": 4,
  "nbformat_minor": 0,
  "metadata": {
    "colab": {
      "provenance": [],
      "gpuType": "T4",
      "authorship_tag": "ABX9TyM4JO3V6zkY+nVl203wiA/Y",
      "include_colab_link": true
    },
    "kernelspec": {
      "name": "python3",
      "display_name": "Python 3"
    },
    "language_info": {
      "name": "python"
    },
    "accelerator": "GPU"
  },
  "cells": [
    {
      "cell_type": "markdown",
      "metadata": {
        "id": "view-in-github",
        "colab_type": "text"
      },
      "source": [
        "<a href=\"https://colab.research.google.com/github/kaleb36/tuner_mnist/blob/main/tuner_mnist.ipynb\" target=\"_parent\"><img src=\"https://colab.research.google.com/assets/colab-badge.svg\" alt=\"Open In Colab\"/></a>"
      ]
    },
    {
      "cell_type": "code",
      "source": [
        "#installing keras tuner\n",
        "!pip install keras_tuner"
      ],
      "metadata": {
        "colab": {
          "base_uri": "https://localhost:8080/"
        },
        "id": "5G_oDzsChIOx",
        "outputId": "aa5fb1e6-af05-4a88-87c9-208f7e3de814"
      },
      "execution_count": 4,
      "outputs": [
        {
          "output_type": "stream",
          "name": "stdout",
          "text": [
            "Collecting keras_tuner\n",
            "  Downloading keras_tuner-1.4.6-py3-none-any.whl (128 kB)\n",
            "\u001b[?25l     \u001b[90m━━━━━━━━━━━━━━━━━━━━━━━━━━━━━━━━━━━━━━━━\u001b[0m \u001b[32m0.0/128.9 kB\u001b[0m \u001b[31m?\u001b[0m eta \u001b[36m-:--:--\u001b[0m\r\u001b[2K     \u001b[90m━━━━━━━━━━━━━━━━━━━━━━━━━━━━━━━━━━━━━━━━\u001b[0m \u001b[32m128.9/128.9 kB\u001b[0m \u001b[31m4.3 MB/s\u001b[0m eta \u001b[36m0:00:00\u001b[0m\n",
            "\u001b[?25hRequirement already satisfied: keras in /usr/local/lib/python3.10/dist-packages (from keras_tuner) (2.15.0)\n",
            "Requirement already satisfied: packaging in /usr/local/lib/python3.10/dist-packages (from keras_tuner) (23.2)\n",
            "Requirement already satisfied: requests in /usr/local/lib/python3.10/dist-packages (from keras_tuner) (2.31.0)\n",
            "Collecting kt-legacy (from keras_tuner)\n",
            "  Downloading kt_legacy-1.0.5-py3-none-any.whl (9.6 kB)\n",
            "Requirement already satisfied: charset-normalizer<4,>=2 in /usr/local/lib/python3.10/dist-packages (from requests->keras_tuner) (3.3.2)\n",
            "Requirement already satisfied: idna<4,>=2.5 in /usr/local/lib/python3.10/dist-packages (from requests->keras_tuner) (3.6)\n",
            "Requirement already satisfied: urllib3<3,>=1.21.1 in /usr/local/lib/python3.10/dist-packages (from requests->keras_tuner) (2.0.7)\n",
            "Requirement already satisfied: certifi>=2017.4.17 in /usr/local/lib/python3.10/dist-packages (from requests->keras_tuner) (2023.11.17)\n",
            "Installing collected packages: kt-legacy, keras_tuner\n",
            "Successfully installed keras_tuner-1.4.6 kt-legacy-1.0.5\n"
          ]
        }
      ]
    },
    {
      "cell_type": "code",
      "execution_count": 8,
      "metadata": {
        "colab": {
          "base_uri": "https://localhost:8080/"
        },
        "id": "wWYqUN85e7PZ",
        "outputId": "579b34ce-0e6b-439e-941d-0cdd609a58ad"
      },
      "outputs": [
        {
          "output_type": "execute_result",
          "data": {
            "text/plain": [
              "<keras.src.engine.functional.Functional at 0x7941c9bd5870>"
            ]
          },
          "metadata": {},
          "execution_count": 8
        }
      ],
      "source": [
        "import tensorflow as tf\n",
        "from tensorflow import keras\n",
        "from tensorflow.keras import layers\n",
        "import keras_tuner\n",
        "import numpy as np\n",
        "\n",
        "def build_model(hp):\n",
        "    inputs = keras.Input(shape=(28, 28, 1))\n",
        "    #tune the number of layers\n",
        "    for i in range(hp.Int(\"num_layers\", 1, 3)):\n",
        "        x = layers.Conv2D(\n",
        "            filters=hp.Int(f\"filters_{i}\", min_value=32, max_value=128),\n",
        "            kernel_size=3, activation=\"relu\")(inputs)\n",
        "        #tune for maxpooling\n",
        "        if hp.Boolean(\"maxpooling2d\"):\n",
        "            x = layers.MaxPooling2D(pool_size=2)(x)\n",
        "    x = layers.Flatten()(x)\n",
        "    outputs = layers.Dense(10, activation=\"softmax\")(x)\n",
        "    model = keras.Model(inputs=inputs, outputs=outputs)\n",
        "    #tuning for optimizer\n",
        "    optimizer = hp.Choice(name=\"optimizer\", values=[\"rmsprop\", \"adam\"])\n",
        "    model.compile(\n",
        "        optimizer=optimizer,\n",
        "        loss=\"sparse_categorical_crossentropy\",\n",
        "        metrics=[\"accuracy\"],\n",
        "    )\n",
        "    return model\n",
        "#instantiating the model\n",
        "build_model(keras_tuner.HyperParameters())"
      ]
    },
    {
      "cell_type": "code",
      "source": [
        "tuner = tuner = keras_tuner.RandomSearch(\n",
        "    hypermodel=build_model,\n",
        "    objective=\"val_accuracy\",\n",
        "    max_trials=10,\n",
        "    executions_per_trial=2,\n",
        "    overwrite=True,\n",
        "    directory=\"tuner_mnist\",\n",
        "    project_name=\"mnistv1\",\n",
        ")"
      ],
      "metadata": {
        "id": "g1B68z6KsW6g"
      },
      "execution_count": 12,
      "outputs": []
    },
    {
      "cell_type": "code",
      "source": [
        "#print the summary of the search space\n",
        "tuner.search_space_summary()"
      ],
      "metadata": {
        "colab": {
          "base_uri": "https://localhost:8080/"
        },
        "id": "DhXHdhKxtX3F",
        "outputId": "e15639b5-a59c-4c9c-cc64-d9469533e703"
      },
      "execution_count": 13,
      "outputs": [
        {
          "output_type": "stream",
          "name": "stdout",
          "text": [
            "Search space summary\n",
            "Default search space size: 4\n",
            "num_layers (Int)\n",
            "{'default': None, 'conditions': [], 'min_value': 1, 'max_value': 3, 'step': 1, 'sampling': 'linear'}\n",
            "filters_0 (Int)\n",
            "{'default': None, 'conditions': [], 'min_value': 32, 'max_value': 128, 'step': 1, 'sampling': 'linear'}\n",
            "maxpooling2d (Boolean)\n",
            "{'default': False, 'conditions': []}\n",
            "optimizer (Choice)\n",
            "{'default': 'rmsprop', 'conditions': [], 'values': ['rmsprop', 'adam'], 'ordered': False}\n"
          ]
        }
      ]
    },
    {
      "cell_type": "code",
      "source": [
        "#preparing the dataset\n",
        "(x, y), (x_test, y_test) = keras.datasets.mnist.load_data()\n",
        "\n",
        "x_train = x[:-10000]\n",
        "x_val = x[-10000:]\n",
        "y_train = y[:-10000]\n",
        "y_val = y[-10000:]\n",
        "\n",
        "x_train = np.expand_dims(x_train, -1).astype(\"float32\") / 255.0\n",
        "x_val = np.expand_dims(x_val, -1).astype(\"float32\") / 255.0\n",
        "x_test = np.expand_dims(x_test, -1).astype(\"float32\") / 255.0\n",
        "\n",
        "num_classes = 10\n"
      ],
      "metadata": {
        "colab": {
          "base_uri": "https://localhost:8080/"
        },
        "id": "ZWLMNa2quJuk",
        "outputId": "8278d148-ebdd-4654-f989-a8f3065bc916"
      },
      "execution_count": 14,
      "outputs": [
        {
          "output_type": "stream",
          "name": "stdout",
          "text": [
            "Downloading data from https://storage.googleapis.com/tensorflow/tf-keras-datasets/mnist.npz\n",
            "11490434/11490434 [==============================] - 0s 0us/step\n"
          ]
        }
      ]
    },
    {
      "cell_type": "code",
      "source": [
        "callbacks = [\n",
        "    keras.callbacks.EarlyStopping(monitor=\"val_loss\", patience=5)\n",
        "]\n",
        "\n",
        "#starting the search\n",
        "tuner.search(x_train, y_train, batch_size=128, epochs=10, validation_data=(x_val, y_val), callbacks=callbacks, verbose=2)"
      ],
      "metadata": {
        "colab": {
          "base_uri": "https://localhost:8080/"
        },
        "id": "9iHS36_nwKEP",
        "outputId": "7afae322-8c3c-4195-bbaf-cf8b6d65cf63"
      },
      "execution_count": 17,
      "outputs": [
        {
          "output_type": "stream",
          "name": "stdout",
          "text": [
            "Trial 10 Complete [00h 00m 51s]\n",
            "val_accuracy: 0.9814999997615814\n",
            "\n",
            "Best val_accuracy So Far: 0.9848000109195709\n",
            "Total elapsed time: 00h 06m 40s\n"
          ]
        }
      ]
    },
    {
      "cell_type": "code",
      "source": [
        "#query the results\n",
        "#get the top 2 best models\n",
        "\n",
        "models = tuner.get_best_models(num_models=2)\n",
        "best_model = models[0]\n",
        "best_model.summary()"
      ],
      "metadata": {
        "colab": {
          "base_uri": "https://localhost:8080/"
        },
        "id": "lv4ApuWSxcCd",
        "outputId": "f62ecd01-2116-449c-b805-f34ed46f9c84"
      },
      "execution_count": 18,
      "outputs": [
        {
          "output_type": "stream",
          "name": "stdout",
          "text": [
            "Model: \"model\"\n",
            "_________________________________________________________________\n",
            " Layer (type)                Output Shape              Param #   \n",
            "=================================================================\n",
            " input_1 (InputLayer)        [(None, 28, 28, 1)]       0         \n",
            "                                                                 \n",
            " conv2d (Conv2D)             (None, 26, 26, 78)        780       \n",
            "                                                                 \n",
            " max_pooling2d (MaxPooling2  (None, 13, 13, 78)        0         \n",
            " D)                                                              \n",
            "                                                                 \n",
            " flatten (Flatten)           (None, 13182)             0         \n",
            "                                                                 \n",
            " dense (Dense)               (None, 10)                131830    \n",
            "                                                                 \n",
            "=================================================================\n",
            "Total params: 132610 (518.01 KB)\n",
            "Trainable params: 132610 (518.01 KB)\n",
            "Non-trainable params: 0 (0.00 Byte)\n",
            "_________________________________________________________________\n"
          ]
        }
      ]
    },
    {
      "cell_type": "code",
      "source": [
        "#printing the summary of ther search results\n",
        "tuner.results_summary()"
      ],
      "metadata": {
        "colab": {
          "base_uri": "https://localhost:8080/"
        },
        "id": "pZQYqyRT1aDG",
        "outputId": "b3b89638-986b-4e06-9576-74f8434efc49"
      },
      "execution_count": 19,
      "outputs": [
        {
          "output_type": "stream",
          "name": "stdout",
          "text": [
            "Results summary\n",
            "Results in tuner_mnist/mnistv1\n",
            "Showing 10 best trials\n",
            "Objective(name=\"val_accuracy\", direction=\"max\")\n",
            "\n",
            "Trial 04 summary\n",
            "Hyperparameters:\n",
            "num_layers: 1\n",
            "filters_0: 78\n",
            "maxpooling2d: True\n",
            "optimizer: rmsprop\n",
            "filters_1: 122\n",
            "Score: 0.9848000109195709\n",
            "\n",
            "Trial 02 summary\n",
            "Hyperparameters:\n",
            "num_layers: 1\n",
            "filters_0: 76\n",
            "maxpooling2d: True\n",
            "optimizer: adam\n",
            "Score: 0.9838500022888184\n",
            "Traceback (most recent call last):\n",
            "  File \"/usr/local/lib/python3.10/dist-packages/keras_tuner/src/engine/base_tuner.py\", line 273, in _try_run_and_update_trial\n",
            "    self._run_and_update_trial(trial, *fit_args, **fit_kwargs)\n",
            "  File \"/usr/local/lib/python3.10/dist-packages/keras_tuner/src/engine/base_tuner.py\", line 238, in _run_and_update_trial\n",
            "    results = self.run_trial(trial, *fit_args, **fit_kwargs)\n",
            "  File \"/usr/local/lib/python3.10/dist-packages/keras_tuner/src/engine/tuner.py\", line 309, in run_trial\n",
            "    self._configure_tensorboard_dir(callbacks, trial, execution)\n",
            "  File \"/usr/local/lib/python3.10/dist-packages/keras_tuner/src/engine/tuner.py\", line 423, in _configure_tensorboard_dir\n",
            "    for callback in callbacks:\n",
            "TypeError: 'EarlyStopping' object is not iterable\n",
            "\n",
            "\n",
            "Trial 06 summary\n",
            "Hyperparameters:\n",
            "num_layers: 2\n",
            "filters_0: 99\n",
            "maxpooling2d: True\n",
            "optimizer: rmsprop\n",
            "filters_1: 44\n",
            "Score: 0.9834000170230865\n",
            "\n",
            "Trial 07 summary\n",
            "Hyperparameters:\n",
            "num_layers: 3\n",
            "filters_0: 86\n",
            "maxpooling2d: True\n",
            "optimizer: rmsprop\n",
            "filters_1: 48\n",
            "filters_2: 32\n",
            "Score: 0.9833499789237976\n",
            "\n",
            "Trial 03 summary\n",
            "Hyperparameters:\n",
            "num_layers: 2\n",
            "filters_0: 77\n",
            "maxpooling2d: True\n",
            "optimizer: adam\n",
            "filters_1: 32\n",
            "Score: 0.9830499887466431\n",
            "\n",
            "Trial 08 summary\n",
            "Hyperparameters:\n",
            "num_layers: 1\n",
            "filters_0: 74\n",
            "maxpooling2d: False\n",
            "optimizer: adam\n",
            "filters_1: 102\n",
            "filters_2: 84\n",
            "Score: 0.9823500216007233\n",
            "\n",
            "Trial 05 summary\n",
            "Hyperparameters:\n",
            "num_layers: 2\n",
            "filters_0: 80\n",
            "maxpooling2d: False\n",
            "optimizer: rmsprop\n",
            "filters_1: 57\n",
            "Score: 0.9820000231266022\n",
            "\n",
            "Trial 09 summary\n",
            "Hyperparameters:\n",
            "num_layers: 3\n",
            "filters_0: 125\n",
            "maxpooling2d: False\n",
            "optimizer: rmsprop\n",
            "filters_1: 52\n",
            "filters_2: 115\n",
            "Score: 0.9814999997615814\n",
            "\n",
            "Trial 00 summary\n",
            "Hyperparameters:\n",
            "num_layers: 3\n",
            "filters_0: 68\n",
            "maxpooling2d: False\n",
            "optimizer: adam\n",
            "Traceback (most recent call last):\n",
            "  File \"/usr/local/lib/python3.10/dist-packages/keras_tuner/src/engine/base_tuner.py\", line 273, in _try_run_and_update_trial\n",
            "    self._run_and_update_trial(trial, *fit_args, **fit_kwargs)\n",
            "  File \"/usr/local/lib/python3.10/dist-packages/keras_tuner/src/engine/base_tuner.py\", line 238, in _run_and_update_trial\n",
            "    results = self.run_trial(trial, *fit_args, **fit_kwargs)\n",
            "  File \"/usr/local/lib/python3.10/dist-packages/keras_tuner/src/engine/tuner.py\", line 309, in run_trial\n",
            "    self._configure_tensorboard_dir(callbacks, trial, execution)\n",
            "  File \"/usr/local/lib/python3.10/dist-packages/keras_tuner/src/engine/tuner.py\", line 423, in _configure_tensorboard_dir\n",
            "    for callback in callbacks:\n",
            "TypeError: 'EarlyStopping' object is not iterable\n",
            "\n",
            "\n",
            "Trial 01 summary\n",
            "Hyperparameters:\n",
            "num_layers: 2\n",
            "filters_0: 121\n",
            "maxpooling2d: False\n",
            "optimizer: adam\n",
            "Traceback (most recent call last):\n",
            "  File \"/usr/local/lib/python3.10/dist-packages/keras_tuner/src/engine/base_tuner.py\", line 273, in _try_run_and_update_trial\n",
            "    self._run_and_update_trial(trial, *fit_args, **fit_kwargs)\n",
            "  File \"/usr/local/lib/python3.10/dist-packages/keras_tuner/src/engine/base_tuner.py\", line 238, in _run_and_update_trial\n",
            "    results = self.run_trial(trial, *fit_args, **fit_kwargs)\n",
            "  File \"/usr/local/lib/python3.10/dist-packages/keras_tuner/src/engine/tuner.py\", line 309, in run_trial\n",
            "    self._configure_tensorboard_dir(callbacks, trial, execution)\n",
            "  File \"/usr/local/lib/python3.10/dist-packages/keras_tuner/src/engine/tuner.py\", line 423, in _configure_tensorboard_dir\n",
            "    for callback in callbacks:\n",
            "TypeError: 'EarlyStopping' object is not iterable\n",
            "\n"
          ]
        }
      ]
    },
    {
      "cell_type": "markdown",
      "source": [
        "# Retrain the model\n",
        "If you want to train the model with the entire dataset, you may retrieve the best hyperparameters and retrain the model by yourself."
      ],
      "metadata": {
        "id": "j7pNioW43IpX"
      }
    },
    {
      "cell_type": "code",
      "source": [
        "# Get the top 2 hyperparameters.\n",
        "best_hps = tuner.get_best_hyperparameters(5)\n",
        "# Build the model with the best hp.\n",
        "model = build_model(best_hps[0])\n",
        "# Fit with the entire dataset.\n",
        "x_all = np.concatenate((x_train, x_val))\n",
        "y_all = np.concatenate((y_train, y_val))\n",
        "model.fit(x=x_all, y=y_all, epochs=1)"
      ],
      "metadata": {
        "colab": {
          "base_uri": "https://localhost:8080/"
        },
        "id": "byhOD-Yl2C8E",
        "outputId": "a3aee350-004d-425a-d527-140d6362d425"
      },
      "execution_count": 20,
      "outputs": [
        {
          "output_type": "stream",
          "name": "stdout",
          "text": [
            "1875/1875 [==============================] - 6s 3ms/step - loss: 0.1799 - accuracy: 0.9468\n"
          ]
        },
        {
          "output_type": "execute_result",
          "data": {
            "text/plain": [
              "<keras.src.callbacks.History at 0x794154505870>"
            ]
          },
          "metadata": {},
          "execution_count": 20
        }
      ]
    },
    {
      "cell_type": "code",
      "source": [
        "#Getting the best epoch\n",
        "def get_best_epoch(hp):\n",
        "    model = build_model(hp)\n",
        "    callbacks=[\n",
        "        keras.callbacks.EarlyStopping(\n",
        "            monitor=\"val_loss\", mode=\"min\", patience=10)\n",
        "    ]\n",
        "    history = model.fit(\n",
        "        x_train, y_train,\n",
        "        validation_data=(x_val, y_val),\n",
        "        epochs=10,\n",
        "        batch_size=128,\n",
        "        callbacks=callbacks)\n",
        "    val_loss_per_epoch = history.history[\"val_loss\"]\n",
        "    best_epoch = val_loss_per_epoch.index(min(val_loss_per_epoch)) + 1\n",
        "    print(f\"Best epoch: {best_epoch}\")\n",
        "    return best_epoch\n",
        "\n",
        "#getting the best model\n",
        "def get_best_trained_model(hp):\n",
        "    best_epoch = get_best_epoch(hp)\n",
        "    model = build_model(hp)\n",
        "    model.fit(\n",
        "        x_all, y_all,\n",
        "        batch_size=128, epochs=int(best_epoch * 1.2))\n",
        "    return model\n",
        "\n",
        "best_models = []\n",
        "for hp in best_hps:\n",
        "    model = get_best_trained_model(hp)\n",
        "    model.evaluate(x_test, y_test)\n",
        "    best_models.append(model)"
      ],
      "metadata": {
        "colab": {
          "base_uri": "https://localhost:8080/"
        },
        "id": "0nTsnoo631fS",
        "outputId": "5792c5ce-b471-4545-ec2c-7713ddd3f4a7"
      },
      "execution_count": 22,
      "outputs": [
        {
          "output_type": "stream",
          "name": "stdout",
          "text": [
            "Epoch 1/10\n",
            "391/391 [==============================] - 3s 6ms/step - loss: 0.3102 - accuracy: 0.9114 - val_loss: 0.1344 - val_accuracy: 0.9657\n",
            "Epoch 2/10\n",
            "391/391 [==============================] - 2s 5ms/step - loss: 0.1111 - accuracy: 0.9684 - val_loss: 0.0875 - val_accuracy: 0.9756\n",
            "Epoch 3/10\n",
            "391/391 [==============================] - 2s 5ms/step - loss: 0.0777 - accuracy: 0.9777 - val_loss: 0.0752 - val_accuracy: 0.9790\n",
            "Epoch 4/10\n",
            "391/391 [==============================] - 2s 5ms/step - loss: 0.0628 - accuracy: 0.9814 - val_loss: 0.0695 - val_accuracy: 0.9802\n",
            "Epoch 5/10\n",
            "391/391 [==============================] - 2s 5ms/step - loss: 0.0541 - accuracy: 0.9841 - val_loss: 0.0612 - val_accuracy: 0.9821\n",
            "Epoch 6/10\n",
            "391/391 [==============================] - 2s 5ms/step - loss: 0.0476 - accuracy: 0.9862 - val_loss: 0.0680 - val_accuracy: 0.9797\n",
            "Epoch 7/10\n",
            "391/391 [==============================] - 2s 5ms/step - loss: 0.0427 - accuracy: 0.9875 - val_loss: 0.0649 - val_accuracy: 0.9809\n",
            "Epoch 8/10\n",
            "391/391 [==============================] - 2s 5ms/step - loss: 0.0389 - accuracy: 0.9889 - val_loss: 0.0596 - val_accuracy: 0.9831\n",
            "Epoch 9/10\n",
            "391/391 [==============================] - 2s 5ms/step - loss: 0.0351 - accuracy: 0.9899 - val_loss: 0.0598 - val_accuracy: 0.9836\n",
            "Epoch 10/10\n",
            "391/391 [==============================] - 2s 5ms/step - loss: 0.0317 - accuracy: 0.9908 - val_loss: 0.0578 - val_accuracy: 0.9850\n",
            "Best epoch: 10\n",
            "Epoch 1/12\n",
            "469/469 [==============================] - 2s 4ms/step - loss: 0.2795 - accuracy: 0.9202\n",
            "Epoch 2/12\n",
            "469/469 [==============================] - 2s 4ms/step - loss: 0.0953 - accuracy: 0.9730\n",
            "Epoch 3/12\n",
            "469/469 [==============================] - 2s 4ms/step - loss: 0.0686 - accuracy: 0.9804\n",
            "Epoch 4/12\n",
            "469/469 [==============================] - 2s 4ms/step - loss: 0.0568 - accuracy: 0.9837\n",
            "Epoch 5/12\n",
            "469/469 [==============================] - 2s 4ms/step - loss: 0.0500 - accuracy: 0.9854\n",
            "Epoch 6/12\n",
            "469/469 [==============================] - 2s 4ms/step - loss: 0.0442 - accuracy: 0.9872\n",
            "Epoch 7/12\n",
            "469/469 [==============================] - 2s 4ms/step - loss: 0.0401 - accuracy: 0.9885\n",
            "Epoch 8/12\n",
            "469/469 [==============================] - 2s 4ms/step - loss: 0.0366 - accuracy: 0.9893\n",
            "Epoch 9/12\n",
            "469/469 [==============================] - 2s 5ms/step - loss: 0.0331 - accuracy: 0.9906\n",
            "Epoch 10/12\n",
            "469/469 [==============================] - 2s 4ms/step - loss: 0.0308 - accuracy: 0.9908\n",
            "Epoch 11/12\n",
            "469/469 [==============================] - 2s 4ms/step - loss: 0.0284 - accuracy: 0.9920\n",
            "Epoch 12/12\n",
            "469/469 [==============================] - 2s 4ms/step - loss: 0.0255 - accuracy: 0.9928\n",
            "313/313 [==============================] - 1s 2ms/step - loss: 0.0517 - accuracy: 0.9835\n",
            "Epoch 1/10\n",
            "391/391 [==============================] - 3s 5ms/step - loss: 0.3107 - accuracy: 0.9126 - val_loss: 0.1212 - val_accuracy: 0.9701\n",
            "Epoch 2/10\n",
            "391/391 [==============================] - 2s 4ms/step - loss: 0.1017 - accuracy: 0.9715 - val_loss: 0.0844 - val_accuracy: 0.9783\n",
            "Epoch 3/10\n",
            "391/391 [==============================] - 2s 5ms/step - loss: 0.0732 - accuracy: 0.9788 - val_loss: 0.0740 - val_accuracy: 0.9801\n",
            "Epoch 4/10\n",
            "391/391 [==============================] - 2s 5ms/step - loss: 0.0590 - accuracy: 0.9831 - val_loss: 0.0711 - val_accuracy: 0.9788\n",
            "Epoch 5/10\n",
            "391/391 [==============================] - 2s 5ms/step - loss: 0.0509 - accuracy: 0.9860 - val_loss: 0.0628 - val_accuracy: 0.9812\n",
            "Epoch 6/10\n",
            "391/391 [==============================] - 2s 5ms/step - loss: 0.0450 - accuracy: 0.9865 - val_loss: 0.0610 - val_accuracy: 0.9829\n",
            "Epoch 7/10\n",
            "391/391 [==============================] - 2s 4ms/step - loss: 0.0404 - accuracy: 0.9880 - val_loss: 0.0624 - val_accuracy: 0.9808\n",
            "Epoch 8/10\n",
            "391/391 [==============================] - 2s 4ms/step - loss: 0.0365 - accuracy: 0.9893 - val_loss: 0.0643 - val_accuracy: 0.9827\n",
            "Epoch 9/10\n",
            "391/391 [==============================] - 2s 5ms/step - loss: 0.0319 - accuracy: 0.9902 - val_loss: 0.0644 - val_accuracy: 0.9832\n",
            "Epoch 10/10\n",
            "391/391 [==============================] - 2s 4ms/step - loss: 0.0284 - accuracy: 0.9918 - val_loss: 0.0600 - val_accuracy: 0.9843\n",
            "Best epoch: 10\n",
            "Epoch 1/12\n",
            "469/469 [==============================] - 3s 4ms/step - loss: 0.2822 - accuracy: 0.9224\n",
            "Epoch 2/12\n",
            "469/469 [==============================] - 2s 4ms/step - loss: 0.0917 - accuracy: 0.9739\n",
            "Epoch 3/12\n",
            "469/469 [==============================] - 2s 4ms/step - loss: 0.0661 - accuracy: 0.9809\n",
            "Epoch 4/12\n",
            "469/469 [==============================] - 2s 4ms/step - loss: 0.0553 - accuracy: 0.9839\n",
            "Epoch 5/12\n",
            "469/469 [==============================] - 2s 5ms/step - loss: 0.0475 - accuracy: 0.9860\n",
            "Epoch 6/12\n",
            "469/469 [==============================] - 2s 4ms/step - loss: 0.0416 - accuracy: 0.9874\n",
            "Epoch 7/12\n",
            "469/469 [==============================] - 2s 4ms/step - loss: 0.0369 - accuracy: 0.9888\n",
            "Epoch 8/12\n",
            "469/469 [==============================] - 2s 4ms/step - loss: 0.0337 - accuracy: 0.9898\n",
            "Epoch 9/12\n",
            "469/469 [==============================] - 2s 4ms/step - loss: 0.0290 - accuracy: 0.9914\n",
            "Epoch 10/12\n",
            "469/469 [==============================] - 2s 4ms/step - loss: 0.0260 - accuracy: 0.9924\n",
            "Epoch 11/12\n",
            "469/469 [==============================] - 2s 4ms/step - loss: 0.0235 - accuracy: 0.9930\n",
            "Epoch 12/12\n",
            "469/469 [==============================] - 2s 4ms/step - loss: 0.0206 - accuracy: 0.9939\n",
            "313/313 [==============================] - 1s 2ms/step - loss: 0.0567 - accuracy: 0.9839\n",
            "Epoch 1/10\n",
            "391/391 [==============================] - 3s 5ms/step - loss: 0.3551 - accuracy: 0.9002 - val_loss: 0.1661 - val_accuracy: 0.9579\n",
            "Epoch 2/10\n",
            "391/391 [==============================] - 2s 5ms/step - loss: 0.1405 - accuracy: 0.9598 - val_loss: 0.1002 - val_accuracy: 0.9751\n",
            "Epoch 3/10\n",
            "391/391 [==============================] - 2s 4ms/step - loss: 0.0919 - accuracy: 0.9732 - val_loss: 0.0891 - val_accuracy: 0.9762\n",
            "Epoch 4/10\n",
            "391/391 [==============================] - 2s 4ms/step - loss: 0.0725 - accuracy: 0.9793 - val_loss: 0.0749 - val_accuracy: 0.9799\n",
            "Epoch 5/10\n",
            "391/391 [==============================] - 2s 4ms/step - loss: 0.0614 - accuracy: 0.9821 - val_loss: 0.0693 - val_accuracy: 0.9806\n",
            "Epoch 6/10\n",
            "391/391 [==============================] - 2s 4ms/step - loss: 0.0541 - accuracy: 0.9845 - val_loss: 0.0657 - val_accuracy: 0.9809\n",
            "Epoch 7/10\n",
            "391/391 [==============================] - 2s 4ms/step - loss: 0.0488 - accuracy: 0.9853 - val_loss: 0.0702 - val_accuracy: 0.9795\n",
            "Epoch 8/10\n",
            "391/391 [==============================] - 2s 5ms/step - loss: 0.0446 - accuracy: 0.9874 - val_loss: 0.0611 - val_accuracy: 0.9830\n",
            "Epoch 9/10\n",
            "391/391 [==============================] - 2s 4ms/step - loss: 0.0408 - accuracy: 0.9883 - val_loss: 0.0592 - val_accuracy: 0.9833\n",
            "Epoch 10/10\n",
            "391/391 [==============================] - 2s 4ms/step - loss: 0.0374 - accuracy: 0.9891 - val_loss: 0.0638 - val_accuracy: 0.9822\n",
            "Best epoch: 9\n",
            "Epoch 1/10\n",
            "469/469 [==============================] - 2s 4ms/step - loss: 0.3129 - accuracy: 0.9131\n",
            "Epoch 2/10\n",
            "469/469 [==============================] - 2s 3ms/step - loss: 0.1203 - accuracy: 0.9664\n",
            "Epoch 3/10\n",
            "469/469 [==============================] - 2s 4ms/step - loss: 0.0834 - accuracy: 0.9765\n",
            "Epoch 4/10\n",
            "469/469 [==============================] - 2s 4ms/step - loss: 0.0678 - accuracy: 0.9812\n",
            "Epoch 5/10\n",
            "469/469 [==============================] - 2s 3ms/step - loss: 0.0587 - accuracy: 0.9832\n",
            "Epoch 6/10\n",
            "469/469 [==============================] - 2s 4ms/step - loss: 0.0519 - accuracy: 0.9851\n",
            "Epoch 7/10\n",
            "469/469 [==============================] - 2s 4ms/step - loss: 0.0473 - accuracy: 0.9869\n",
            "Epoch 8/10\n",
            "469/469 [==============================] - 2s 4ms/step - loss: 0.0431 - accuracy: 0.9875\n",
            "Epoch 9/10\n",
            "469/469 [==============================] - 2s 4ms/step - loss: 0.0402 - accuracy: 0.9885\n",
            "Epoch 10/10\n",
            "469/469 [==============================] - 2s 4ms/step - loss: 0.0373 - accuracy: 0.9893\n",
            "313/313 [==============================] - 1s 2ms/step - loss: 0.0522 - accuracy: 0.9831\n",
            "Epoch 1/10\n",
            "391/391 [==============================] - 2s 5ms/step - loss: 0.3731 - accuracy: 0.8971 - val_loss: 0.1822 - val_accuracy: 0.9537\n",
            "Epoch 2/10\n",
            "391/391 [==============================] - 2s 4ms/step - loss: 0.1456 - accuracy: 0.9587 - val_loss: 0.1092 - val_accuracy: 0.9724\n",
            "Epoch 3/10\n",
            "391/391 [==============================] - 2s 4ms/step - loss: 0.0975 - accuracy: 0.9723 - val_loss: 0.0929 - val_accuracy: 0.9751\n",
            "Epoch 4/10\n",
            "391/391 [==============================] - 2s 5ms/step - loss: 0.0772 - accuracy: 0.9781 - val_loss: 0.0767 - val_accuracy: 0.9793\n",
            "Epoch 5/10\n",
            "391/391 [==============================] - 2s 4ms/step - loss: 0.0663 - accuracy: 0.9808 - val_loss: 0.0698 - val_accuracy: 0.9790\n",
            "Epoch 6/10\n",
            "391/391 [==============================] - 2s 4ms/step - loss: 0.0587 - accuracy: 0.9830 - val_loss: 0.0684 - val_accuracy: 0.9818\n",
            "Epoch 7/10\n",
            "391/391 [==============================] - 2s 4ms/step - loss: 0.0526 - accuracy: 0.9850 - val_loss: 0.0680 - val_accuracy: 0.9795\n",
            "Epoch 8/10\n",
            "391/391 [==============================] - 2s 4ms/step - loss: 0.0484 - accuracy: 0.9866 - val_loss: 0.0648 - val_accuracy: 0.9819\n",
            "Epoch 9/10\n",
            "391/391 [==============================] - 2s 4ms/step - loss: 0.0445 - accuracy: 0.9873 - val_loss: 0.0683 - val_accuracy: 0.9814\n",
            "Epoch 10/10\n",
            "391/391 [==============================] - 1s 4ms/step - loss: 0.0412 - accuracy: 0.9883 - val_loss: 0.0631 - val_accuracy: 0.9823\n",
            "Best epoch: 10\n",
            "Epoch 1/12\n",
            "469/469 [==============================] - 2s 4ms/step - loss: 0.3407 - accuracy: 0.9048\n",
            "Epoch 2/12\n",
            "469/469 [==============================] - 2s 3ms/step - loss: 0.1360 - accuracy: 0.9620\n",
            "Epoch 3/12\n",
            "469/469 [==============================] - 2s 3ms/step - loss: 0.0910 - accuracy: 0.9746\n",
            "Epoch 4/12\n",
            "469/469 [==============================] - 2s 3ms/step - loss: 0.0726 - accuracy: 0.9798\n",
            "Epoch 5/12\n",
            "469/469 [==============================] - 2s 4ms/step - loss: 0.0623 - accuracy: 0.9819\n",
            "Epoch 6/12\n",
            "469/469 [==============================] - 2s 4ms/step - loss: 0.0556 - accuracy: 0.9839\n",
            "Epoch 7/12\n",
            "469/469 [==============================] - 2s 3ms/step - loss: 0.0501 - accuracy: 0.9859\n",
            "Epoch 8/12\n",
            "469/469 [==============================] - 2s 3ms/step - loss: 0.0462 - accuracy: 0.9870\n",
            "Epoch 9/12\n",
            "469/469 [==============================] - 2s 3ms/step - loss: 0.0428 - accuracy: 0.9876\n",
            "Epoch 10/12\n",
            "469/469 [==============================] - 2s 3ms/step - loss: 0.0401 - accuracy: 0.9888\n",
            "Epoch 11/12\n",
            "469/469 [==============================] - 2s 4ms/step - loss: 0.0375 - accuracy: 0.9894\n",
            "Epoch 12/12\n",
            "469/469 [==============================] - 2s 4ms/step - loss: 0.0351 - accuracy: 0.9903\n",
            "313/313 [==============================] - 1s 2ms/step - loss: 0.0502 - accuracy: 0.9846\n",
            "Epoch 1/10\n",
            "391/391 [==============================] - 3s 5ms/step - loss: 0.3786 - accuracy: 0.8975 - val_loss: 0.1646 - val_accuracy: 0.9571\n",
            "Epoch 2/10\n",
            "391/391 [==============================] - 2s 4ms/step - loss: 0.1370 - accuracy: 0.9605 - val_loss: 0.1092 - val_accuracy: 0.9705\n",
            "Epoch 3/10\n",
            "391/391 [==============================] - 2s 4ms/step - loss: 0.0934 - accuracy: 0.9736 - val_loss: 0.0870 - val_accuracy: 0.9777\n",
            "Epoch 4/10\n",
            "391/391 [==============================] - 2s 4ms/step - loss: 0.0739 - accuracy: 0.9791 - val_loss: 0.0757 - val_accuracy: 0.9798\n",
            "Epoch 5/10\n",
            "391/391 [==============================] - 2s 4ms/step - loss: 0.0638 - accuracy: 0.9818 - val_loss: 0.0712 - val_accuracy: 0.9798\n",
            "Epoch 6/10\n",
            "391/391 [==============================] - 2s 5ms/step - loss: 0.0557 - accuracy: 0.9843 - val_loss: 0.0648 - val_accuracy: 0.9820\n",
            "Epoch 7/10\n",
            "391/391 [==============================] - 2s 4ms/step - loss: 0.0495 - accuracy: 0.9856 - val_loss: 0.0663 - val_accuracy: 0.9818\n",
            "Epoch 8/10\n",
            "391/391 [==============================] - 2s 4ms/step - loss: 0.0455 - accuracy: 0.9869 - val_loss: 0.0677 - val_accuracy: 0.9809\n",
            "Epoch 9/10\n",
            "391/391 [==============================] - 2s 4ms/step - loss: 0.0421 - accuracy: 0.9872 - val_loss: 0.0661 - val_accuracy: 0.9803\n",
            "Epoch 10/10\n",
            "391/391 [==============================] - 1s 4ms/step - loss: 0.0385 - accuracy: 0.9889 - val_loss: 0.0625 - val_accuracy: 0.9820\n",
            "Best epoch: 10\n",
            "Epoch 1/12\n",
            "469/469 [==============================] - 2s 3ms/step - loss: 0.3549 - accuracy: 0.9041\n",
            "Epoch 2/12\n",
            "469/469 [==============================] - 2s 4ms/step - loss: 0.1255 - accuracy: 0.9651\n",
            "Epoch 3/12\n",
            "469/469 [==============================] - 2s 4ms/step - loss: 0.0840 - accuracy: 0.9771\n",
            "Epoch 4/12\n",
            "469/469 [==============================] - 2s 3ms/step - loss: 0.0682 - accuracy: 0.9811\n",
            "Epoch 5/12\n",
            "469/469 [==============================] - 2s 3ms/step - loss: 0.0583 - accuracy: 0.9832\n",
            "Epoch 6/12\n",
            "469/469 [==============================] - 2s 3ms/step - loss: 0.0525 - accuracy: 0.9848\n",
            "Epoch 7/12\n",
            "469/469 [==============================] - 2s 3ms/step - loss: 0.0471 - accuracy: 0.9862\n",
            "Epoch 8/12\n",
            "469/469 [==============================] - 2s 3ms/step - loss: 0.0430 - accuracy: 0.9874\n",
            "Epoch 9/12\n",
            "469/469 [==============================] - 2s 4ms/step - loss: 0.0399 - accuracy: 0.9885\n",
            "Epoch 10/12\n",
            "469/469 [==============================] - 2s 4ms/step - loss: 0.0372 - accuracy: 0.9889\n",
            "Epoch 11/12\n",
            "469/469 [==============================] - 2s 3ms/step - loss: 0.0336 - accuracy: 0.9900\n",
            "Epoch 12/12\n",
            "469/469 [==============================] - 2s 3ms/step - loss: 0.0317 - accuracy: 0.9907\n",
            "313/313 [==============================] - 1s 2ms/step - loss: 0.0546 - accuracy: 0.9834\n"
          ]
        }
      ]
    },
    {
      "cell_type": "code",
      "source": [
        "best_models[3].summary()"
      ],
      "metadata": {
        "colab": {
          "base_uri": "https://localhost:8080/"
        },
        "id": "MYBhAmQo6SNH",
        "outputId": "8dee5fb5-504e-450b-f04c-4e29a82a2cd7"
      },
      "execution_count": 29,
      "outputs": [
        {
          "output_type": "stream",
          "name": "stdout",
          "text": [
            "Model: \"model_14\"\n",
            "_________________________________________________________________\n",
            " Layer (type)                Output Shape              Param #   \n",
            "=================================================================\n",
            " input_15 (InputLayer)       [(None, 28, 28, 1)]       0         \n",
            "                                                                 \n",
            " conv2d_24 (Conv2D)          (None, 26, 26, 32)        320       \n",
            "                                                                 \n",
            " max_pooling2d_24 (MaxPooli  (None, 13, 13, 32)        0         \n",
            " ng2D)                                                           \n",
            "                                                                 \n",
            " flatten_14 (Flatten)        (None, 5408)              0         \n",
            "                                                                 \n",
            " dense_14 (Dense)            (None, 10)                54090     \n",
            "                                                                 \n",
            "=================================================================\n",
            "Total params: 54410 (212.54 KB)\n",
            "Trainable params: 54410 (212.54 KB)\n",
            "Non-trainable params: 0 (0.00 Byte)\n",
            "_________________________________________________________________\n"
          ]
        }
      ]
    },
    {
      "cell_type": "code",
      "source": [],
      "metadata": {
        "id": "6fm5hiRG_9H2"
      },
      "execution_count": null,
      "outputs": []
    }
  ]
}